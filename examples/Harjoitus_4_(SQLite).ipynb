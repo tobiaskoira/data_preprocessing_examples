{
 "cells": [
  {
   "cell_type": "markdown",
   "metadata": {},
   "source": [
    "## SQLite-tehtävät"
   ]
  },
  {
   "cell_type": "markdown",
   "metadata": {},
   "source": [
    "#### Tehtävä 1. Lisää tarvittavat kirjastot ja tee `testi.db` niminen tietokanta (SQLite3)"
   ]
  },
  {
   "cell_type": "code",
   "execution_count": 1,
   "metadata": {},
   "outputs": [],
   "source": [
    "import sqlite3\n",
    "database_connection  = sqlite3.connect(\"testi.db\")\n",
    "database_connection2  = sqlite3.connect(\"henkilotaulukopio.db\")"
   ]
  },
  {
   "cell_type": "markdown",
   "metadata": {},
   "source": [
    "#### Tehtävä 2. Luo yhteys tietokantaan"
   ]
  },
  {
   "cell_type": "code",
   "execution_count": 2,
   "metadata": {},
   "outputs": [],
   "source": [
    "c = database_connection.cursor()\n",
    "conn = database_connection.cursor()"
   ]
  },
  {
   "cell_type": "markdown",
   "metadata": {},
   "source": [
    "#### Tehtävä 3. Tee tietokantaan seuraavanlainen taulu, jonka nimi on `henkilotaulu`:\n",
    "    \n",
    "| Nimi        | Ika           | Kengankoko  |\n",
    "| ------------- |-------------| -----|\n",
    "| Teppo      | 88 | 47 |\n",
    "| Matti      | 34     | 39 |\n",
    "| Ilona | 41      |    36 |\n",
    "| Sonja | 32      |    37 |"
   ]
  },
  {
   "cell_type": "code",
   "execution_count": 3,
   "metadata": {},
   "outputs": [],
   "source": [
    "c.execute(\"\"\"CREATE TABLE if not exists henkilotaulu (Nimi, Ika, Kengankoko)\"\"\")\n",
    "data_rows = [(\"Teppo\", 88, 47), (\"Matti\", 34, 39), (\"Ilona\", 41, 36), (\"Sonja\", 32, 37)]\n",
    "for data_row in data_rows:\n",
    "    c.execute('''INSERT INTO henkilotaulu VALUES {0}'''.format(data_row))\n",
    "database_connection.commit()"
   ]
  },
  {
   "cell_type": "markdown",
   "metadata": {},
   "source": [
    "#### Tehtävä 4. Kun Taulu on tehty, niin hae taulu Pandasin DataFrame-objektiin ja lisää siihen sarake `Hatunkoko`, jonka jälkeen täytä se valitsemillasi arvoilla"
   ]
  },
  {
   "cell_type": "code",
   "execution_count": 4,
   "metadata": {},
   "outputs": [
    {
     "data": {
      "text/html": [
       "<div>\n",
       "<style scoped>\n",
       "    .dataframe tbody tr th:only-of-type {\n",
       "        vertical-align: middle;\n",
       "    }\n",
       "\n",
       "    .dataframe tbody tr th {\n",
       "        vertical-align: top;\n",
       "    }\n",
       "\n",
       "    .dataframe thead th {\n",
       "        text-align: right;\n",
       "    }\n",
       "</style>\n",
       "<table border=\"1\" class=\"dataframe\">\n",
       "  <thead>\n",
       "    <tr style=\"text-align: right;\">\n",
       "      <th></th>\n",
       "      <th>Nimi</th>\n",
       "      <th>Ika</th>\n",
       "      <th>Kengankoko</th>\n",
       "      <th>Hatunkoko</th>\n",
       "    </tr>\n",
       "  </thead>\n",
       "  <tbody>\n",
       "    <tr>\n",
       "      <th>0</th>\n",
       "      <td>Teppo</td>\n",
       "      <td>88</td>\n",
       "      <td>47</td>\n",
       "      <td>2</td>\n",
       "    </tr>\n",
       "    <tr>\n",
       "      <th>1</th>\n",
       "      <td>Matti</td>\n",
       "      <td>34</td>\n",
       "      <td>39</td>\n",
       "      <td>3</td>\n",
       "    </tr>\n",
       "    <tr>\n",
       "      <th>2</th>\n",
       "      <td>Ilona</td>\n",
       "      <td>41</td>\n",
       "      <td>36</td>\n",
       "      <td>4</td>\n",
       "    </tr>\n",
       "    <tr>\n",
       "      <th>3</th>\n",
       "      <td>Sonja</td>\n",
       "      <td>32</td>\n",
       "      <td>37</td>\n",
       "      <td>5</td>\n",
       "    </tr>\n",
       "  </tbody>\n",
       "</table>\n",
       "</div>"
      ],
      "text/plain": [
       "    Nimi  Ika  Kengankoko  Hatunkoko\n",
       "0  Teppo   88          47          2\n",
       "1  Matti   34          39          3\n",
       "2  Ilona   41          36          4\n",
       "3  Sonja   32          37          5"
      ]
     },
     "execution_count": 4,
     "metadata": {},
     "output_type": "execute_result"
    }
   ],
   "source": [
    "import pandas as pd\n",
    "sql_query = '''SELECT * FROM henkilotaulu'''\n",
    "dataframe_from_sqlite = pd.read_sql(sql_query, database_connection)\n",
    "\n",
    "numbers = [2,3,4,5]\n",
    "dataframe_from_sqlite['Hatunkoko'] = pd.DataFrame({'Hatunkoko': numbers})\n",
    "dataframe_from_sqlite"
   ]
  },
  {
   "cell_type": "markdown",
   "metadata": {},
   "source": [
    "#### Tehtävä 5. Tee DataFrame-objektista kopio, jonka nimi on `henkilotaulukopio` ja lisää siihen rivi valitsemillasi arvoilla. Tallenna tämä muokattu dataframe-objekti nyt tietokantaan nimellä `henkilotaulukopio` (tulee edellisen taulun rinnalle)."
   ]
  },
  {
   "cell_type": "code",
   "execution_count": 5,
   "metadata": {},
   "outputs": [
    {
     "data": {
      "text/html": [
       "<div>\n",
       "<style scoped>\n",
       "    .dataframe tbody tr th:only-of-type {\n",
       "        vertical-align: middle;\n",
       "    }\n",
       "\n",
       "    .dataframe tbody tr th {\n",
       "        vertical-align: top;\n",
       "    }\n",
       "\n",
       "    .dataframe thead th {\n",
       "        text-align: right;\n",
       "    }\n",
       "</style>\n",
       "<table border=\"1\" class=\"dataframe\">\n",
       "  <thead>\n",
       "    <tr style=\"text-align: right;\">\n",
       "      <th></th>\n",
       "      <th>Nimi</th>\n",
       "      <th>Ika</th>\n",
       "      <th>Kengankoko</th>\n",
       "      <th>Hatunkoko</th>\n",
       "    </tr>\n",
       "  </thead>\n",
       "  <tbody>\n",
       "    <tr>\n",
       "      <th>0</th>\n",
       "      <td>Teppo</td>\n",
       "      <td>88</td>\n",
       "      <td>47</td>\n",
       "      <td>2</td>\n",
       "    </tr>\n",
       "    <tr>\n",
       "      <th>1</th>\n",
       "      <td>Matti</td>\n",
       "      <td>34</td>\n",
       "      <td>39</td>\n",
       "      <td>3</td>\n",
       "    </tr>\n",
       "    <tr>\n",
       "      <th>2</th>\n",
       "      <td>Ilona</td>\n",
       "      <td>41</td>\n",
       "      <td>36</td>\n",
       "      <td>4</td>\n",
       "    </tr>\n",
       "    <tr>\n",
       "      <th>3</th>\n",
       "      <td>Sonja</td>\n",
       "      <td>32</td>\n",
       "      <td>37</td>\n",
       "      <td>5</td>\n",
       "    </tr>\n",
       "    <tr>\n",
       "      <th>4</th>\n",
       "      <td>Amy</td>\n",
       "      <td>79</td>\n",
       "      <td>38</td>\n",
       "      <td>2</td>\n",
       "    </tr>\n",
       "  </tbody>\n",
       "</table>\n",
       "</div>"
      ],
      "text/plain": [
       "    Nimi  Ika  Kengankoko  Hatunkoko\n",
       "0  Teppo   88          47          2\n",
       "1  Matti   34          39          3\n",
       "2  Ilona   41          36          4\n",
       "3  Sonja   32          37          5\n",
       "4    Amy   79          38          2"
      ]
     },
     "execution_count": 5,
     "metadata": {},
     "output_type": "execute_result"
    }
   ],
   "source": [
    "henkilotaulukopio = dataframe_from_sqlite.copy()\n",
    "henkilotaulukopio.loc[len(henkilotaulukopio.index)] = ['Amy', 79, 38, 2] \n",
    "\n",
    "henkilotaulukopio.to_sql(name=\"henkilotaulukopio\", con=database_connection2, if_exists='fail', index=False)\n",
    "\n",
    "sql_query = '''SELECT * FROM henkilotaulukopio'''\n",
    "dataframe_from_sqlite = pd.read_sql(sql_query, database_connection2)\n",
    "\n",
    "dataframe_from_sqlite"
   ]
  },
  {
   "cell_type": "markdown",
   "metadata": {},
   "source": [
    "#### Tehtävä 6. Tallenna lopuksi tietokannan muutokset ja sulje yhteys"
   ]
  },
  {
   "cell_type": "code",
   "execution_count": 6,
   "metadata": {},
   "outputs": [],
   "source": [
    "database_connection2.commit()\n",
    "database_connection2.close()"
   ]
  }
 ],
 "metadata": {
  "kernelspec": {
   "display_name": "Python 3",
   "language": "python",
   "name": "python3"
  },
  "language_info": {
   "codemirror_mode": {
    "name": "ipython",
    "version": 3
   },
   "file_extension": ".py",
   "mimetype": "text/x-python",
   "name": "python",
   "nbconvert_exporter": "python",
   "pygments_lexer": "ipython3",
   "version": "3.10.11"
  }
 },
 "nbformat": 4,
 "nbformat_minor": 2
}
