{
 "cells": [
  {
   "cell_type": "markdown",
   "metadata": {},
   "source": [
    "## Rest-tehtävät"
   ]
  },
  {
   "cell_type": "markdown",
   "metadata": {},
   "source": [
    "Ensimmäisessä tehtäväosiossa rajapintaa pääkaupunkiseudun palveluista. Tämä rajapinta on myös käytössä esimerkeissä.\n",
    "\n",
    "Tietoa palvelusta löytyy: https://www.hel.fi/palvelukarttaws/restpages/palvelurekisteri.html\n",
    "\n",
    "---\n",
    "\n",
    "Toisessa tehtäväosiossa on käytössä Digitrafficin rest-rajapinta, johon on tarkoitus soveltaa osaamista. \n",
    "\n",
    "Tietoa palvelusta löytyy: https://www.digitraffic.fi/rautatieliikenne/#dataa-tukevat-rajapinnat--ty%C3%B6kalut"
   ]
  },
  {
   "cell_type": "markdown",
   "metadata": {},
   "source": [
    "### Pääkaupunkiseudun palveluiden rajapinnan tehtävät"
   ]
  },
  {
   "cell_type": "markdown",
   "metadata": {},
   "source": [
    "Url-osoite rajapinnalle: http://www.hel.fi/palvelukarttaws/rest/vpalvelurekisteri"
   ]
  },
  {
   "cell_type": "markdown",
   "metadata": {},
   "source": [
    "#### Tehtävä 1. Lisää käytettävät kirjastot ja muodosta rajapinnan url-osoite päätteellä `/description/`"
   ]
  },
  {
   "cell_type": "code",
   "execution_count": 1,
   "metadata": {},
   "outputs": [
    {
     "ename": "ModuleNotFoundError",
     "evalue": "No module named 'requests'",
     "output_type": "error",
     "traceback": [
      "\u001b[1;31m---------------------------------------------------------------------------\u001b[0m",
      "\u001b[1;31mModuleNotFoundError\u001b[0m                       Traceback (most recent call last)",
      "\u001b[1;32mc:\\repos\\ttc8030-harjoitukset\\harjoitukset\\Harjoitus_3_(Rest).ipynb Cell 6\u001b[0m line \u001b[0;36m1\n\u001b[1;32m----> <a href='vscode-notebook-cell:/c%3A/repos/ttc8030-harjoitukset/harjoitukset/Harjoitus_3_%28Rest%29.ipynb#W5sZmlsZQ%3D%3D?line=0'>1</a>\u001b[0m \u001b[39mimport\u001b[39;00m \u001b[39mrequests\u001b[39;00m\n\u001b[0;32m      <a href='vscode-notebook-cell:/c%3A/repos/ttc8030-harjoitukset/harjoitukset/Harjoitus_3_%28Rest%29.ipynb#W5sZmlsZQ%3D%3D?line=1'>2</a>\u001b[0m url \u001b[39m=\u001b[39m \u001b[39m\"\u001b[39m\u001b[39mhttp://www.hel.fi/palvelukarttaws/rest/vpalvelurekisteri\u001b[39m\u001b[39m\"\u001b[39m\n\u001b[0;32m      <a href='vscode-notebook-cell:/c%3A/repos/ttc8030-harjoitukset/harjoitukset/Harjoitus_3_%28Rest%29.ipynb#W5sZmlsZQ%3D%3D?line=2'>3</a>\u001b[0m endpoint \u001b[39m=\u001b[39m \u001b[39m\"\u001b[39m\u001b[39m/description/\u001b[39m\u001b[39m\"\u001b[39m\n",
      "\u001b[1;31mModuleNotFoundError\u001b[0m: No module named 'requests'"
     ]
    }
   ],
   "source": [
    "import requests\n",
    "url = \"http://www.hel.fi/palvelukarttaws/rest/vpalvelurekisteri\"\n",
    "endpoint = \"/description/\"\n",
    "new_url = \"{0}{1}\".format(url, endpoint)"
   ]
  },
  {
   "cell_type": "markdown",
   "metadata": {},
   "source": [
    "#### Tehtävä 2. Tee get-pyyntö osoitteeseen ja varmista, että haku onnistuu ja vastauskoodina on 200"
   ]
  },
  {
   "cell_type": "code",
   "execution_count": null,
   "metadata": {},
   "outputs": [],
   "source": [
    "req = requests.get(new_url)\n",
    "req.status_code"
   ]
  },
  {
   "cell_type": "markdown",
   "metadata": {},
   "source": [
    "#### Tehtävä 3. Tallenna vastaus muuttujaan listana, joiden elementit ovat json-muodossa"
   ]
  },
  {
   "cell_type": "code",
   "execution_count": null,
   "metadata": {},
   "outputs": [],
   "source": [
    "data_from_api = req.json()\n",
    "\n",
    "data_from_api"
   ]
  },
  {
   "cell_type": "markdown",
   "metadata": {},
   "source": [
    "#### Tehtävä 4. Valitse list-objektista viimeisin json-tietue, jonka `service_id`-avaimen arvo on 10473 (10473 arvoja on kolme) ja sijoita kyseisen json-tietueen `id`-avaimen arvo muuttujaan."
   ]
  },
  {
   "cell_type": "code",
   "execution_count": null,
   "metadata": {},
   "outputs": [],
   "source": [
    "import json\n",
    "list_of_id = []\n",
    "for i in data_from_api:\n",
    "    service_id = i['service_id']\n",
    "    id = i['id']\n",
    "    if service_id == 10473:\n",
    "        list_of_id.append(id)\n",
    "print(list_of_id)\n",
    "id = list_of_id[ len(list_of_id) - 1 ]\n",
    "#print(id)\n",
    "    \n",
    "#data = data_from_api[0]['service_id']\n",
    "#id = data_from_api[0]['service_id']\n",
    "#print(data)"
   ]
  },
  {
   "cell_type": "markdown",
   "metadata": {},
   "source": [
    "#### Tehtävä 5. Tee uusi get-pyyntö samaan osoitteeseen kuin aiemmin (myös päätepiste pysyy samana), mutta ota edellisessä kohdassa valittu muuttuja (muuttuja joka sisältää `id`:n arvon) huomioon pyynnössä"
   ]
  },
  {
   "cell_type": "code",
   "execution_count": null,
   "metadata": {},
   "outputs": [],
   "source": [
    "new_url_id = \"{0}{1}{2}\".format(url, endpoint, id)\n",
    "req1 = requests.get(new_url_id)\n",
    "req1.status_code"
   ]
  },
  {
   "cell_type": "markdown",
   "metadata": {},
   "source": [
    "#### Tehtävä 6. Tulosta vastauksesta `title`-avaimen arvo"
   ]
  },
  {
   "cell_type": "code",
   "execution_count": null,
   "metadata": {},
   "outputs": [],
   "source": [
    "data_from_api1 = req1.json()\n",
    "\n",
    "data_from_api1['title']"
   ]
  },
  {
   "cell_type": "markdown",
   "metadata": {},
   "source": [
    "---"
   ]
  },
  {
   "cell_type": "markdown",
   "metadata": {},
   "source": [
    "### Digitrafficin rajapinnan tehtävät"
   ]
  },
  {
   "cell_type": "markdown",
   "metadata": {},
   "source": [
    "#### Tehtävä 7. Hae Digitrafficin rajapinnasta palvelun ohjeiden mukaan tiedot junalle päivältä 06.06.2018, jonka numero on 1"
   ]
  },
  {
   "cell_type": "code",
   "execution_count": null,
   "metadata": {},
   "outputs": [],
   "source": [
    "url = \"https://rata.digitraffic.fi/api/v1/trains/2018-06-06/1\"\n",
    "\n",
    "new_url2 = \"{0}\".format(url)\n",
    "req2 = requests.get(new_url2)\n",
    "req2.status_code"
   ]
  },
  {
   "cell_type": "markdown",
   "metadata": {},
   "source": [
    "#### Tehtävä 8. Muodosta edellisen tehtävän get-pyynnön tuloksesta DataFrame (koko Junan 1 päivän 06.06.2018 datasta), jos yksikin `scheduledTime`-avaimen arvo on ennen aikaleimaa '2018-06-06T06:00:00.000Z'."
   ]
  },
  {
   "cell_type": "code",
   "execution_count": null,
   "metadata": {},
   "outputs": [],
   "source": [
    "req3 = requests.get(new_url2)\n",
    "req3.status_code\n",
    "data_junat = req3.json()\n",
    "\n",
    "test_data_junat = []\n",
    "\n",
    "\n",
    "for i in data_junat:\n",
    "\n",
    "    timeTableRows = i['timeTableRows']\n",
    "    for j in timeTableRows:\n",
    "        scheduledTime = j['scheduledTime']\n",
    "        \n",
    "        scheduledTime = int(scheduledTime.replace(':','')[11:][:-5])\n",
    "        if scheduledTime < 60000:\n",
    "            test_data_junat.append(i)\n",
    "        #print(scheduledTime)\n",
    "\n",
    "    #sheduledTime = i['scheduledTime'] \n",
    "    #if sheduledTime > '2018-06-06T06:00:00.000Z':\n",
    "        #new_data_junat.append(i)\n",
    "        #test_data_junat.append(sheduledTime)\n",
    "print(test_data_junat)\n",
    "#print(data_junat) "
   ]
  },
  {
   "cell_type": "markdown",
   "metadata": {},
   "source": [
    "#### Tehtävä 9. Tulosta ainoa rivi generoidusta DataFrame-objektista, jos sellainen muodostetaan."
   ]
  },
  {
   "cell_type": "code",
   "execution_count": null,
   "metadata": {},
   "outputs": [],
   "source": [
    "print(test_data_junat)"
   ]
  }
 ],
 "metadata": {
  "kernelspec": {
   "display_name": "Python 3",
   "language": "python",
   "name": "python3"
  },
  "language_info": {
   "codemirror_mode": {
    "name": "ipython",
    "version": 3
   },
   "file_extension": ".py",
   "mimetype": "text/x-python",
   "name": "python",
   "nbconvert_exporter": "python",
   "pygments_lexer": "ipython3",
   "version": "3.10.11"
  }
 },
 "nbformat": 4,
 "nbformat_minor": 2
}
